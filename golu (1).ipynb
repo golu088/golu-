{
 "cells": [
  {
   "cell_type": "code",
   "execution_count": 2,
   "id": "708910cd-31ea-450e-a36d-e2d7de54f338",
   "metadata": {},
   "outputs": [
    {
     "name": "stdout",
     "output_type": "stream",
     "text": [
      "hh\n"
     ]
    }
   ],
   "source": [
    "print(\"hh\")"
   ]
  },
  {
   "cell_type": "code",
   "execution_count": null,
   "id": "dfbd912e-1767-4a87-88d0-18ce50dfc619",
   "metadata": {},
   "outputs": [],
   "source": []
  },
  {
   "cell_type": "code",
   "execution_count": null,
   "id": "451305fa-d847-4f6a-a03f-0d3dac789074",
   "metadata": {},
   "outputs": [],
   "source": []
  }
 ],
 "metadata": {
  "kernelspec": {
   "display_name": "Python 3 (ipykernel)",
   "language": "python",
   "name": "python3"
  },
  "language_info": {
   "codemirror_mode": {
    "name": "ipython",
    "version": 3
   },
   "file_extension": ".py",
   "mimetype": "text/x-python",
   "name": "python",
   "nbconvert_exporter": "python",
   "pygments_lexer": "ipython3",
   "version": "3.12.4"
  }
 },
 "nbformat": 4,
 "nbformat_minor": 5
}
